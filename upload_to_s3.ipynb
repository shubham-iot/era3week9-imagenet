{
 "cells": [
  {
   "cell_type": "code",
   "execution_count": 2,
   "metadata": {},
   "outputs": [
    {
     "name": "stdout",
     "output_type": "stream",
     "text": [
      "File '../checkpoint.pth' successfully uploaded to 's3://imagenethouse/checkpoint-30-12-2024-11-11_2'.\n"
     ]
    }
   ],
   "source": [
    "import boto3\n",
    "\n",
    "# Initialize S3 client\n",
    "s3 = boto3.client('s3')\n",
    "\n",
    "# Define file and S3 details\n",
    "local_file_path = '../checkpoint.pth'  # Local file to upload\n",
    "bucket_name = 'imagenethouse'       # S3 bucket name\n",
    "object_key = 'checkpoint-30-12-2024-11-11_2'  # S3 object key\n",
    "\n",
    "# Upload the file\n",
    "try:\n",
    "    s3.upload_file(local_file_path, bucket_name, object_key)\n",
    "    print(f\"File '{local_file_path}' successfully uploaded to 's3://{bucket_name}/{object_key}'.\")\n",
    "except Exception as e:\n",
    "    print(f\"Error uploading file: {e}\")\n"
   ]
  },
  {
   "cell_type": "code",
   "execution_count": null,
   "metadata": {},
   "outputs": [],
   "source": []
  }
 ],
 "metadata": {
  "kernelspec": {
   "display_name": "pytorch",
   "language": "python",
   "name": "python3"
  },
  "language_info": {
   "codemirror_mode": {
    "name": "ipython",
    "version": 3
   },
   "file_extension": ".py",
   "mimetype": "text/x-python",
   "name": "python",
   "nbconvert_exporter": "python",
   "pygments_lexer": "ipython3",
   "version": "3.11.11"
  }
 },
 "nbformat": 4,
 "nbformat_minor": 2
}
